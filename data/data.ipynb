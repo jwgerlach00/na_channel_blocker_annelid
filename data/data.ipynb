{
 "cells": [
  {
   "cell_type": "code",
   "execution_count": 6,
   "metadata": {},
   "outputs": [],
   "source": [
    "import numpy as np\n",
    "\n",
    "\n",
    "def remove_txt_headers(path):\n",
    "    \n",
    "    no_lines = ['Interval', 'ExcelDateTime', 'TimeFormat', 'DateFormat', 'ChannelTitle', 'Range', 'UnitName', 'TopValue', \n",
    "                'BottomValue']  # Lines to remove\n",
    "    \n",
    "    # Read raw lines\n",
    "    with open(f'raw_labchart/{path}', 'r') as f:\n",
    "        lines = f.readlines()\n",
    "    \n",
    "    # Remove lines\n",
    "    lines_arr = np.array(lines)\n",
    "    lines_arr = lines_arr[[not any(x in y for x in no_lines) for y in lines_arr]]\n",
    "\n",
    "    # Write new file\n",
    "    s = ''.join(lines_arr)\n",
    "    with open('headers_removed/{0}_out.txt'.format(path.split('.')[0]), 'w') as f:\n",
    "        f.write(s)"
   ]
  },
  {
   "cell_type": "code",
   "execution_count": 8,
   "metadata": {},
   "outputs": [],
   "source": [
    "remove_txt_headers('worm4.txt')"
   ]
  },
  {
   "cell_type": "code",
   "execution_count": 10,
   "metadata": {},
   "outputs": [
    {
     "data": {
      "text/plain": [
       "Index(['time', 'stimulus', 'signal', 'comments'], dtype='object')"
      ]
     },
     "execution_count": 10,
     "metadata": {},
     "output_type": "execute_result"
    }
   ],
   "source": [
    "import pandas as pd\n",
    "df = pd.read_excel('excel_data/worm1.xlsx')\n",
    "df.columns"
   ]
  },
  {
   "cell_type": "code",
   "execution_count": null,
   "metadata": {},
   "outputs": [],
   "source": []
  }
 ],
 "metadata": {
  "interpreter": {
   "hash": "a70ae903d449b648cc66763813e9b8f5635a776b0d4e286bea4d539bea475d64"
  },
  "kernelspec": {
   "display_name": "Python 3.8.8 ('base')",
   "language": "python",
   "name": "python3"
  },
  "language_info": {
   "codemirror_mode": {
    "name": "ipython",
    "version": 3
   },
   "file_extension": ".py",
   "mimetype": "text/x-python",
   "name": "python",
   "nbconvert_exporter": "python",
   "pygments_lexer": "ipython3",
   "version": "3.8.8"
  },
  "orig_nbformat": 4
 },
 "nbformat": 4,
 "nbformat_minor": 2
}
